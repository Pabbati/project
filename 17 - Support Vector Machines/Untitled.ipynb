{
 "cells": [
  {
   "cell_type": "code",
   "execution_count": null,
   "id": "0c3e9e8c-da22-4d3c-bea6-819aff84c76e",
   "metadata": {},
   "outputs": [],
   "source": []
  }
 ],
 "metadata": {
  "kernelspec": {
   "display_name": "",
   "name": ""
  },
  "language_info": {
   "name": ""
  }
 },
 "nbformat": 4,
 "nbformat_minor": 5
}

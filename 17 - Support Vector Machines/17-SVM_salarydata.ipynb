{
 "cells": [
  {
   "cell_type": "code",
   "execution_count": null,
   "id": "8224a611-5ba6-41d5-af4f-19aa2bd91939",
   "metadata": {},
   "outputs": [],
   "source": [
    "from pandas import read_csv\n",
    "df_train = read_csv('SalaryData_Train(1).csv')\n",
    "df_test = read_csv('SalaryData_Test(1).csv')\n",
    "df_train.head()"
   ]
  },
  {
   "cell_type": "code",
   "execution_count": null,
   "id": "7ca16937-b43a-460b-9f58-7c90b622638a",
   "metadata": {},
   "outputs": [],
   "source": [
    "df_train.info()"
   ]
  },
  {
   "cell_type": "code",
   "execution_count": null,
   "id": "743958b1-a060-4451-bc2d-3498e97239fc",
   "metadata": {},
   "outputs": [],
   "source": [
    "for index, row in df_train.T.iterrows():\n",
    "    print(row.value_counts())\n",
    "    print('\\n')"
   ]
  },
  {
   "cell_type": "code",
   "execution_count": null,
   "id": "b9fda054-45d0-4060-a598-7c3a2c7e8e16",
   "metadata": {},
   "outputs": [],
   "source": [
    "df_train.columns"
   ]
  },
  {
   "cell_type": "code",
   "execution_count": null,
   "id": "de3b5a71-e11c-4f40-99fb-3efc76485e3e",
   "metadata": {},
   "outputs": [],
   "source": [
    "from sklearn.preprocessing import LabelEncoder\n",
    "le = LabelEncoder()\n",
    "df_train['workclass']=le.fit_transform(df_train['workclass'])\n",
    "df_train['education']= le.fit_transform(df_train['education'])\n",
    "df_train['maritalstatus']=le.fit_transform(df_train['maritalstatus'])\n",
    "df_train['occupation'] = le.fit_transform(df_train['occupation'])\n",
    "df_train['relationship']=le.fit_transform(df_train['relationship'])\n",
    "df_train['race'] = le.fit_transform(df_train['race'])\n",
    "df_train['sex'] = le.fit_transform(df_train['sex'])\n",
    "df_train['native'] = le.fit_transform(df_train['native'])\n",
    "df_train['Salary'] = le.fit_transform(df_train['Salary'])\n",
    "df_train.head()"
   ]
  },
  {
   "cell_type": "code",
   "execution_count": null,
   "id": "01fa1459-2c09-4936-b760-c5467623f56d",
   "metadata": {},
   "outputs": [],
   "source": [
    "from sklearn.preprocessing import LabelEncoder\n",
    "le = LabelEncoder()\n",
    "df_test['workclass']=le.fit_transform(df_test['workclass'])\n",
    "df_test['education']= le.fit_transform(df_test['education'])\n",
    "df_test['maritalstatus']=le.fit_transform(df_test['maritalstatus'])\n",
    "df_test['occupation'] = le.fit_transform(df_test['occupation'])\n",
    "df_test['relationship']=le.fit_transform(df_test['relationship'])\n",
    "df_test['race'] = le.fit_transform(df_test['race'])\n",
    "df_test['sex'] = le.fit_transform(df_test['sex'])\n",
    "df_test['native'] = le.fit_transform(df_test['native'])\n",
    "df_test['Salary'] = le.fit_transform(df_test['Salary'])\n",
    "df_test.head()"
   ]
  },
  {
   "cell_type": "code",
   "execution_count": null,
   "id": "1941a661-5a10-47da-b859-b4681dcb12a4",
   "metadata": {},
   "outputs": [],
   "source": [
    "df_train['Salary'].value_counts()"
   ]
  },
  {
   "cell_type": "code",
   "execution_count": null,
   "id": "1229f389-dd1a-4736-84ba-dd7a26bda236",
   "metadata": {},
   "outputs": [],
   "source": [
    "import matplotlib.pyplot as plt\n",
    "import seaborn as sns\n",
    "plt.figure(figsize=(20,5))\n",
    "sns.boxplot(df_train)"
   ]
  },
  {
   "cell_type": "code",
   "execution_count": null,
   "id": "39066c93-5169-496c-b041-6657112f6934",
   "metadata": {},
   "outputs": [],
   "source": [
    "# remove bias in the dataset\n",
    "\n",
    "from imblearn.combine import SMOTETomek\n",
    "from collections import Counter\n",
    "\n",
    "# Define features and target variable\n",
    "X = df_train.iloc[:, :-1]\n",
    "y = df_train.iloc[:, -1]\n",
    "\n",
    "# Print class distribution before resampling\n",
    "print(\"Class distribution before resampling:\", Counter(y))\n",
    "\n",
    "# Apply SMOTETomek\n",
    "smt = SMOTETomek(sampling_strategy='auto', random_state=42)\n",
    "X_resampled, y_resampled = smt.fit_resample(X, y)\n",
    "\n",
    "# Print class distribution after resampling\n",
    "print(\"Class distribution after resampling:\", Counter(y_resampled))"
   ]
  },
  {
   "cell_type": "code",
   "execution_count": null,
   "id": "22bd9556-ac21-4290-86f7-1d98d41d99f2",
   "metadata": {},
   "outputs": [],
   "source": [
    "# split the data\n",
    "\n",
    "X_train = X_resampled\n",
    "y_train = y_resampled\n",
    "X_test = df_test.drop('Salary', axis=1)\n",
    "y_test = df_test['Salary']"
   ]
  },
  {
   "cell_type": "code",
   "execution_count": null,
   "id": "b1a6f882-e0d7-4ebc-9698-3a358e326e77",
   "metadata": {},
   "outputs": [],
   "source": [
    "#build the model\n",
    "from sklearn.svm import SVC\n",
    "svc = SVC()\n",
    "svc.fit(X_train, y_train)"
   ]
  },
  {
   "cell_type": "code",
   "execution_count": null,
   "id": "abfbf4dd-6127-4688-932a-32590d00bc57",
   "metadata": {},
   "outputs": [],
   "source": [
    "y_pred = svc.predict(X_test)"
   ]
  },
  {
   "cell_type": "code",
   "execution_count": null,
   "id": "889ab6f5-f0e6-443b-a41c-98e615acb53b",
   "metadata": {},
   "outputs": [],
   "source": [
    "from sklearn.metrics import accuracy_score, confusion_matrix, classification_report"
   ]
  },
  {
   "cell_type": "code",
   "execution_count": null,
   "id": "38863dd5-8854-43d8-86fe-22aa031ead93",
   "metadata": {},
   "outputs": [],
   "source": [
    "accuracy_score(y_test, y_pred)"
   ]
  },
  {
   "cell_type": "raw",
   "id": "62a924fc-c62a-4678-b263-261726af8076",
   "metadata": {},
   "source": [
    "#build the model\n",
    "from sklearn.svm import SVC\n",
    "svc = SVC(kernel='linear')\n",
    "svc.fit(X_train, y_train)"
   ]
  },
  {
   "cell_type": "raw",
   "id": "b3203956-8a51-4909-acfa-e244e5b8299c",
   "metadata": {},
   "source": [
    "y_pred = svc.predict(X_test)"
   ]
  },
  {
   "cell_type": "raw",
   "id": "f39368c1-fd02-4825-8caa-94c2c415fb2d",
   "metadata": {},
   "source": [
    "accuracy_score(y_test, y_pred)"
   ]
  },
  {
   "cell_type": "markdown",
   "id": "b39774dd-800e-42c8-9f38-afe250a0c92e",
   "metadata": {},
   "source": [
    "#  Caution: takes morethan an hour of time. not recommended on local system. works on high end server. needs more computatinal power"
   ]
  },
  {
   "cell_type": "raw",
   "id": "8c291180-cfa1-444f-965b-381de3e7dfbd",
   "metadata": {},
   "source": [
    "\n",
    "\n",
    "\n",
    "from sklearn.model_selection import GridSearchCV\n",
    "from sklearn.svm import SVC\n",
    "from sklearn.metrics import classification_report\n",
    "\n",
    "# Define parameter grid\n",
    "param_grid = {\n",
    "    'C': [0.1, 1.0, 10, 100],  # Regularization parameter\n",
    "    'gamma': ['scale', 'auto', 0.1, 1, 10],  # Kernel coefficient for 'rbf' and 'poly'\n",
    "    'kernel': ['linear', 'rbf', 'poly']  # Kernel type\n",
    "}\n",
    "\n",
    "# Create SVC classifier\n",
    "svc = SVC()\n",
    "\n",
    "# Instantiate GridSearchCV\n",
    "grid_search = GridSearchCV(estimator=svc, param_grid=param_grid, cv=5, scoring='accuracy')\n",
    "\n",
    "# Perform grid search\n",
    "grid_search.fit(X_train, y_train)\n",
    "\n",
    "# Get the best parameters and best score\n",
    "best_params = grid_search.best_params_\n",
    "best_score = grid_search.best_score_\n",
    "\n",
    "# Train SVC with the best parameters\n",
    "best_svc = SVC(**best_params)\n",
    "best_svc.fit(X_train, y_train)\n",
    "\n",
    "# Make predictions\n",
    "y_pred = best_svc.predict(X_test)\n",
    "\n",
    "# Evaluate the model\n",
    "print(\"Best Parameters:\", best_params)\n",
    "print(\"Best Score (Accuracy):\", best_score)\n",
    "print(\"Classification Report:\")\n",
    "print(classification_report(y_test, y_pred))"
   ]
  },
  {
   "cell_type": "code",
   "execution_count": null,
   "id": "eca3eb65-33a8-49cd-b3ba-9680743d7620",
   "metadata": {},
   "outputs": [],
   "source": []
  }
 ],
 "metadata": {
  "kernelspec": {
   "display_name": "Python 3 (ipykernel)",
   "language": "python",
   "name": "python3"
  },
  "language_info": {
   "codemirror_mode": {
    "name": "ipython",
    "version": 3
   },
   "file_extension": ".py",
   "mimetype": "text/x-python",
   "name": "python",
   "nbconvert_exporter": "python",
   "pygments_lexer": "ipython3",
   "version": "3.12.2"
  }
 },
 "nbformat": 4,
 "nbformat_minor": 5
}
